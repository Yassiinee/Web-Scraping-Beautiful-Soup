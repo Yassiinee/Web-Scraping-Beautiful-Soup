{
  "nbformat": 4,
  "nbformat_minor": 0,
  "metadata": {
    "colab": {
      "provenance": [],
      "authorship_tag": "ABX9TyNBbF0Ar9x9DWzme7sjqgM+",
      "include_colab_link": true
    },
    "kernelspec": {
      "name": "python3",
      "display_name": "Python 3"
    },
    "language_info": {
      "name": "python"
    }
  },
  "cells": [
    {
      "cell_type": "markdown",
      "metadata": {
        "id": "view-in-github",
        "colab_type": "text"
      },
      "source": [
        "<a href=\"https://colab.research.google.com/github/Yassiinee/Web-Scraping-Beautiful-Soup/blob/main/basic_scrape_csv_export.ipynb\" target=\"_parent\"><img src=\"https://colab.research.google.com/assets/colab-badge.svg\" alt=\"Open In Colab\"/></a>"
      ]
    },
    {
      "cell_type": "code",
      "source": [
        "!pip install beautifulsoup4"
      ],
      "metadata": {
        "colab": {
          "base_uri": "https://localhost:8080/"
        },
        "id": "q0LYrBk_Uac6",
        "outputId": "6df6e6e2-0d1f-494e-c003-c1e36dbf64fa"
      },
      "execution_count": 8,
      "outputs": [
        {
          "output_type": "stream",
          "name": "stdout",
          "text": [
            "Requirement already satisfied: beautifulsoup4 in /usr/local/lib/python3.10/dist-packages (4.11.2)\n",
            "Requirement already satisfied: soupsieve>1.2 in /usr/local/lib/python3.10/dist-packages (from beautifulsoup4) (2.5)\n"
          ]
        }
      ]
    },
    {
      "cell_type": "code",
      "execution_count": 16,
      "metadata": {
        "id": "Ac7ov6AlUHDU"
      },
      "outputs": [],
      "source": [
        "#IMPORT LIBRARIES\n",
        "from bs4 import BeautifulSoup\n",
        "import requests\n",
        "import csv"
      ]
    },
    {
      "cell_type": "code",
      "source": [
        "#REQUEST WEBPAGE AND STORE IT AS A VARIABLE\n",
        "page_to_scrape = requests.get(\"http://quotes.toscrape.com\")"
      ],
      "metadata": {
        "id": "UrLaRf4sV5yY"
      },
      "execution_count": 17,
      "outputs": []
    },
    {
      "cell_type": "code",
      "source": [
        "#USE BEAUTIFULSOUP TO PARSE THE HTML AND STORE IT AS A VARIABLE\n",
        "soup = BeautifulSoup(page_to_scrape.text, 'html.parser')"
      ],
      "metadata": {
        "id": "_wLhGZ8MV-yx"
      },
      "execution_count": 18,
      "outputs": []
    },
    {
      "cell_type": "code",
      "source": [
        "#FIND ALL THE ITEMS IN THE PAGE WITH A CLASS ATTRIBUTE OF 'TEXT' & ATTRIBUTE OF 'AUTHOR'\n",
        "quotes = soup.findAll('span', attrs={'class':'text'})\n",
        "authors = soup.findAll('small', attrs={\"class\":\"author\"})"
      ],
      "metadata": {
        "id": "FAdSnPAAWHix"
      },
      "execution_count": 19,
      "outputs": []
    },
    {
      "cell_type": "code",
      "source": [
        "file = open('scraped_quotes.csv', 'w')\n",
        "writer = csv.writer(file)\n",
        "#CREATE THE HEADER ROW OF THE CSV\n",
        "writer.writerow(['Quote', 'Author'])"
      ],
      "metadata": {
        "colab": {
          "base_uri": "https://localhost:8080/"
        },
        "id": "gRHRCqkrWLaF",
        "outputId": "7322d5fd-50ea-41a8-cb44-0c589f617a5e"
      },
      "execution_count": 20,
      "outputs": [
        {
          "output_type": "execute_result",
          "data": {
            "text/plain": [
              "14"
            ]
          },
          "metadata": {},
          "execution_count": 20
        }
      ]
    },
    {
      "cell_type": "code",
      "source": [
        "#LOOP THROUGH BOTH LISTS USING THE 'ZIP' FUNCTION\n",
        "#AND PRINT AND FORMAT THE RESULTS\n",
        "for quote, author in zip(quotes, authors):\n",
        "    print(quote.text + \"-\" + author.text)\n",
        "    writer.writerow([quote.text, author.text])"
      ],
      "metadata": {
        "colab": {
          "base_uri": "https://localhost:8080/"
        },
        "id": "uFdGUSugWNv9",
        "outputId": "cf59c45b-be32-4b49-9ce4-37769f6bfa0e"
      },
      "execution_count": 21,
      "outputs": [
        {
          "output_type": "stream",
          "name": "stdout",
          "text": [
            "“The world as we have created it is a process of our thinking. It cannot be changed without changing our thinking.”-Albert Einstein\n",
            "“It is our choices, Harry, that show what we truly are, far more than our abilities.”-J.K. Rowling\n",
            "“There are only two ways to live your life. One is as though nothing is a miracle. The other is as though everything is a miracle.”-Albert Einstein\n",
            "“The person, be it gentleman or lady, who has not pleasure in a good novel, must be intolerably stupid.”-Jane Austen\n",
            "“Imperfection is beauty, madness is genius and it's better to be absolutely ridiculous than absolutely boring.”-Marilyn Monroe\n",
            "“Try not to become a man of success. Rather become a man of value.”-Albert Einstein\n",
            "“It is better to be hated for what you are than to be loved for what you are not.”-André Gide\n",
            "“I have not failed. I've just found 10,000 ways that won't work.”-Thomas A. Edison\n",
            "“A woman is like a tea bag; you never know how strong it is until it's in hot water.”-Eleanor Roosevelt\n",
            "“A day without sunshine is like, you know, night.”-Steve Martin\n"
          ]
        }
      ]
    },
    {
      "cell_type": "code",
      "source": [
        "#CLOSE THE CSV FILE\n",
        "file.close()"
      ],
      "metadata": {
        "id": "STckBrTmYH2s"
      },
      "execution_count": 22,
      "outputs": []
    }
  ]
}